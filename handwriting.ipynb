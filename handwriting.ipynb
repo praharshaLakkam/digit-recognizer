{
 "cells": [
  {
   "cell_type": "code",
   "execution_count": 1,
   "metadata": {},
   "outputs": [],
   "source": [
    "import pandas as pd \n",
    "import numpy as np\n"
   ]
  },
  {
   "cell_type": "code",
   "execution_count": 15,
   "metadata": {},
   "outputs": [
    {
     "data": {
      "text/plain": [
       "array([[1],\n",
       "       [0],\n",
       "       [1],\n",
       "       ...,\n",
       "       [7],\n",
       "       [6],\n",
       "       [9]], dtype=int64)"
      ]
     },
     "execution_count": 15,
     "metadata": {},
     "output_type": "execute_result"
    }
   ],
   "source": [
    "x=pd.read_csv(\"train.csv\")\n",
    "y=pd.read_csv(\"test.csv\")\n",
    "y1=y.iloc[:,:].values\n",
    "ytrain=x.iloc[:,0].values\n",
    "xtrain=x.iloc[:,1:].values\n",
    "xtrain.shape\n",
    "ytrain=ytrain.reshape(-1,1)\n",
    "ytrain"
   ]
  },
  {
   "cell_type": "code",
   "execution_count": 3,
   "metadata": {},
   "outputs": [
    {
     "name": "stderr",
     "output_type": "stream",
     "text": [
      "C:\\Users\\HP\\Anaconda3\\lib\\site-packages\\sklearn\\preprocessing\\_encoders.py:368: FutureWarning: The handling of integer data will change in version 0.22. Currently, the categories are determined based on the range [0, max(values)], while in the future they will be determined based on the unique values.\n",
      "If you want the future behaviour and silence this warning, you can specify \"categories='auto'\".\n",
      "In case you used a LabelEncoder before this OneHotEncoder to convert the categories to integers, then you can now use the OneHotEncoder directly.\n",
      "  warnings.warn(msg, FutureWarning)\n",
      "C:\\Users\\HP\\Anaconda3\\lib\\site-packages\\sklearn\\preprocessing\\_encoders.py:390: DeprecationWarning: The 'categorical_features' keyword is deprecated in version 0.20 and will be removed in 0.22. You can use the ColumnTransformer instead.\n",
      "  \"use the ColumnTransformer instead.\", DeprecationWarning)\n"
     ]
    },
    {
     "data": {
      "text/plain": [
       "array([[0., 1., 0., ..., 0., 0., 0.],\n",
       "       [1., 0., 0., ..., 0., 0., 0.],\n",
       "       [0., 1., 0., ..., 0., 0., 0.],\n",
       "       ...,\n",
       "       [0., 0., 0., ..., 1., 0., 0.],\n",
       "       [0., 0., 0., ..., 0., 0., 0.],\n",
       "       [0., 0., 0., ..., 0., 0., 1.]])"
      ]
     },
     "execution_count": 3,
     "metadata": {},
     "output_type": "execute_result"
    }
   ],
   "source": [
    "from sklearn.preprocessing import LabelEncoder,OneHotEncoder\n",
    "o=OneHotEncoder(categorical_features=[0])\n",
    "ytrain=o.fit_transform(ytrain).toarray()\n",
    "ytrain\n"
   ]
  },
  {
   "cell_type": "code",
   "execution_count": 4,
   "metadata": {},
   "outputs": [
    {
     "name": "stderr",
     "output_type": "stream",
     "text": [
      "Using TensorFlow backend.\n"
     ]
    }
   ],
   "source": [
    "import keras\n",
    "from keras.models import Sequential\n",
    "from keras.layers import Dense\n",
    "from keras.models import Sequential, load_model\n",
    "from keras.layers.core import Dense, Dropout, Activation\n",
    "from keras.utils import np_utils"
   ]
  },
  {
   "cell_type": "code",
   "execution_count": 5,
   "metadata": {},
   "outputs": [
    {
     "name": "stdout",
     "output_type": "stream",
     "text": [
      "WARNING:tensorflow:From C:\\Users\\HP\\Anaconda3\\lib\\site-packages\\tensorflow\\python\\framework\\op_def_library.py:263: colocate_with (from tensorflow.python.framework.ops) is deprecated and will be removed in a future version.\n",
      "Instructions for updating:\n",
      "Colocations handled automatically by placer.\n"
     ]
    }
   ],
   "source": [
    "model = Sequential()\n",
    "model.add(Dense(392, input_shape=(784,)))\n",
    "model.add(Activation('relu'))                            \n",
    "model.add(Dense(392))\n",
    "model.add(Activation('relu'))\n",
    "model.add(Dense(392))\n",
    "model.add(Activation('relu'))\n",
    "model.add(Dense(10))\n",
    "model.add(Activation('softmax'))"
   ]
  },
  {
   "cell_type": "code",
   "execution_count": 6,
   "metadata": {},
   "outputs": [
    {
     "name": "stdout",
     "output_type": "stream",
     "text": [
      "WARNING:tensorflow:From C:\\Users\\HP\\Anaconda3\\lib\\site-packages\\tensorflow\\python\\ops\\math_ops.py:3066: to_int32 (from tensorflow.python.ops.math_ops) is deprecated and will be removed in a future version.\n",
      "Instructions for updating:\n",
      "Use tf.cast instead.\n"
     ]
    },
    {
     "name": "stderr",
     "output_type": "stream",
     "text": [
      "C:\\Users\\HP\\Anaconda3\\lib\\site-packages\\ipykernel_launcher.py:2: UserWarning: The `nb_epoch` argument in `fit` has been renamed `epochs`.\n",
      "  \n"
     ]
    },
    {
     "name": "stdout",
     "output_type": "stream",
     "text": [
      "Epoch 1/100\n",
      "42000/42000 [==============================] - 4s 98us/step - loss: 12.7047 - acc: 0.1943\n",
      "Epoch 2/100\n",
      "42000/42000 [==============================] - 4s 83us/step - loss: 9.0920 - acc: 0.4203\n",
      "Epoch 3/100\n",
      "42000/42000 [==============================] - 3s 80us/step - loss: 6.3426 - acc: 0.5959\n",
      "Epoch 4/100\n",
      "42000/42000 [==============================] - 3s 76us/step - loss: 5.6253 - acc: 0.6451\n",
      "Epoch 5/100\n",
      "42000/42000 [==============================] - 3s 76us/step - loss: 5.4917 - acc: 0.6551\n",
      "Epoch 6/100\n",
      "42000/42000 [==============================] - 3s 80us/step - loss: 5.3324 - acc: 0.6654\n",
      "Epoch 7/100\n",
      "42000/42000 [==============================] - 3s 75us/step - loss: 5.2432 - acc: 0.6706\n",
      "Epoch 8/100\n",
      "42000/42000 [==============================] - 4s 86us/step - loss: 5.1687 - acc: 0.6764\n",
      "Epoch 9/100\n",
      "42000/42000 [==============================] - 4s 84us/step - loss: 5.0808 - acc: 0.6822\n",
      "Epoch 10/100\n",
      "42000/42000 [==============================] - 3s 77us/step - loss: 5.0679 - acc: 0.6828\n",
      "Epoch 11/100\n",
      "42000/42000 [==============================] - 3s 78us/step - loss: 5.0195 - acc: 0.6861\n",
      "Epoch 12/100\n",
      "42000/42000 [==============================] - 3s 80us/step - loss: 4.9820 - acc: 0.6886\n",
      "Epoch 13/100\n",
      "42000/42000 [==============================] - 3s 75us/step - loss: 4.9544 - acc: 0.6908\n",
      "Epoch 14/100\n",
      "42000/42000 [==============================] - 3s 76us/step - loss: 4.9463 - acc: 0.6911\n",
      "Epoch 15/100\n",
      "42000/42000 [==============================] - 3s 80us/step - loss: 4.9183 - acc: 0.6927\n",
      "Epoch 16/100\n",
      "42000/42000 [==============================] - 3s 78us/step - loss: 4.8791 - acc: 0.6955\n",
      "Epoch 17/100\n",
      "42000/42000 [==============================] - 3s 80us/step - loss: 4.8676 - acc: 0.6966\n",
      "Epoch 18/100\n",
      "42000/42000 [==============================] - 3s 81us/step - loss: 4.8704 - acc: 0.6961\n",
      "Epoch 19/100\n",
      "42000/42000 [==============================] - 4s 90us/step - loss: 4.8475 - acc: 0.6976\n",
      "Epoch 20/100\n",
      "42000/42000 [==============================] - 3s 83us/step - loss: 4.8206 - acc: 0.6993\n",
      "Epoch 21/100\n",
      "42000/42000 [==============================] - 4s 87us/step - loss: 4.8066 - acc: 0.7005\n",
      "Epoch 22/100\n",
      "42000/42000 [==============================] - 3s 82us/step - loss: 4.7993 - acc: 0.7008\n",
      "Epoch 23/100\n",
      "42000/42000 [==============================] - 3s 78us/step - loss: 4.7786 - acc: 0.7022\n",
      "Epoch 24/100\n",
      "42000/42000 [==============================] - 3s 79us/step - loss: 4.7333 - acc: 0.7039\n",
      "Epoch 25/100\n",
      "42000/42000 [==============================] - 3s 79us/step - loss: 3.6834 - acc: 0.7623\n",
      "Epoch 26/100\n",
      "42000/42000 [==============================] - 3s 76us/step - loss: 3.4445 - acc: 0.7819\n",
      "Epoch 27/100\n",
      "42000/42000 [==============================] - 3s 76us/step - loss: 3.3967 - acc: 0.7857\n",
      "Epoch 28/100\n",
      "42000/42000 [==============================] - 3s 77us/step - loss: 3.3637 - acc: 0.7877\n",
      "Epoch 29/100\n",
      "42000/42000 [==============================] - 3s 76us/step - loss: 3.2978 - acc: 0.7923\n",
      "Epoch 30/100\n",
      "42000/42000 [==============================] - 3s 78us/step - loss: 3.2728 - acc: 0.7941\n",
      "Epoch 31/100\n",
      "42000/42000 [==============================] - 3s 75us/step - loss: 3.2558 - acc: 0.7958\n",
      "Epoch 32/100\n",
      "42000/42000 [==============================] - 3s 75us/step - loss: 3.2175 - acc: 0.7982\n",
      "Epoch 33/100\n",
      "42000/42000 [==============================] - 3s 75us/step - loss: 3.2043 - acc: 0.7992\n",
      "Epoch 34/100\n",
      "42000/42000 [==============================] - 3s 76us/step - loss: 3.1873 - acc: 0.8008\n",
      "Epoch 35/100\n",
      "42000/42000 [==============================] - 3s 75us/step - loss: 3.1757 - acc: 0.8015\n",
      "Epoch 36/100\n",
      "42000/42000 [==============================] - 3s 79us/step - loss: 3.1564 - acc: 0.8030\n",
      "Epoch 37/100\n",
      "42000/42000 [==============================] - 3s 78us/step - loss: 3.1541 - acc: 0.8034\n",
      "Epoch 38/100\n",
      "42000/42000 [==============================] - 3s 80us/step - loss: 3.1504 - acc: 0.8031\n",
      "Epoch 39/100\n",
      "42000/42000 [==============================] - 3s 82us/step - loss: 3.1430 - acc: 0.8042\n",
      "Epoch 40/100\n",
      "42000/42000 [==============================] - 4s 89us/step - loss: 3.1412 - acc: 0.8043\n",
      "Epoch 41/100\n",
      "42000/42000 [==============================] - 3s 81us/step - loss: 3.1348 - acc: 0.8051\n",
      "Epoch 42/100\n",
      "42000/42000 [==============================] - 3s 79us/step - loss: 3.1353 - acc: 0.8047\n",
      "Epoch 43/100\n",
      "42000/42000 [==============================] - ETA: 0s - loss: 3.1305 - acc: 0.804 - 3s 77us/step - loss: 3.1315 - acc: 0.8049\n",
      "Epoch 44/100\n",
      "42000/42000 [==============================] - 3s 81us/step - loss: 3.1301 - acc: 0.8053\n",
      "Epoch 45/100\n",
      "42000/42000 [==============================] - 3s 83us/step - loss: 3.1272 - acc: 0.8054\n",
      "Epoch 46/100\n",
      "42000/42000 [==============================] - 3s 78us/step - loss: 3.1240 - acc: 0.8059\n",
      "Epoch 47/100\n",
      "42000/42000 [==============================] - 3s 76us/step - loss: 3.1206 - acc: 0.8061\n",
      "Epoch 48/100\n",
      "42000/42000 [==============================] - 3s 78us/step - loss: 3.1173 - acc: 0.8063\n",
      "Epoch 49/100\n",
      "42000/42000 [==============================] - 3s 80us/step - loss: 3.1171 - acc: 0.8063\n",
      "Epoch 50/100\n",
      "42000/42000 [==============================] - 4s 91us/step - loss: 3.1166 - acc: 0.8064\n",
      "Epoch 51/100\n",
      "42000/42000 [==============================] - 4s 89us/step - loss: 3.1142 - acc: 0.8063\n",
      "Epoch 52/100\n",
      "42000/42000 [==============================] - 5s 109us/step - loss: 3.1151 - acc: 0.8064\n",
      "Epoch 53/100\n",
      "42000/42000 [==============================] - 4s 86us/step - loss: 3.1116 - acc: 0.8067\n",
      "Epoch 54/100\n",
      "42000/42000 [==============================] - 3s 81us/step - loss: 3.1102 - acc: 0.8069\n",
      "Epoch 55/100\n",
      "42000/42000 [==============================] - 3s 80us/step - loss: 3.1087 - acc: 0.8070\n",
      "Epoch 56/100\n",
      "42000/42000 [==============================] - 4s 84us/step - loss: 3.1083 - acc: 0.8071\n",
      "Epoch 57/100\n",
      "42000/42000 [==============================] - 4s 89us/step - loss: 3.1077 - acc: 0.8072\n",
      "Epoch 58/100\n",
      "42000/42000 [==============================] - 4s 98us/step - loss: 3.1077 - acc: 0.8072\n",
      "Epoch 59/100\n",
      "42000/42000 [==============================] - 3s 82us/step - loss: 3.1077 - acc: 0.8072\n",
      "Epoch 60/100\n",
      "42000/42000 [==============================] - 5s 119us/step - loss: 3.1077 - acc: 0.8072\n",
      "Epoch 61/100\n",
      "42000/42000 [==============================] - 4s 96us/step - loss: 3.1077 - acc: 0.8072\n",
      "Epoch 62/100\n",
      "42000/42000 [==============================] - 4s 104us/step - loss: 3.1077 - acc: 0.8072\n",
      "Epoch 63/100\n",
      "42000/42000 [==============================] - 4s 100us/step - loss: 3.1077 - acc: 0.8072\n",
      "Epoch 64/100\n",
      "42000/42000 [==============================] - 4s 88us/step - loss: 3.1077 - acc: 0.8072\n",
      "Epoch 65/100\n",
      "42000/42000 [==============================] - 4s 85us/step - loss: 3.1077 - acc: 0.8072\n",
      "Epoch 66/100\n",
      "42000/42000 [==============================] - 4s 98us/step - loss: 3.1077 - acc: 0.8072\n",
      "Epoch 67/100\n",
      "42000/42000 [==============================] - 3s 78us/step - loss: 3.1077 - acc: 0.8072\n",
      "Epoch 68/100\n",
      "42000/42000 [==============================] - 3s 82us/step - loss: 3.1077 - acc: 0.8072\n",
      "Epoch 69/100\n",
      "42000/42000 [==============================] - 3s 83us/step - loss: 3.1077 - acc: 0.8072\n",
      "Epoch 70/100\n",
      "42000/42000 [==============================] - 4s 103us/step - loss: 3.1077 - acc: 0.8072\n",
      "Epoch 71/100\n",
      "42000/42000 [==============================] - 3s 78us/step - loss: 3.1077 - acc: 0.8072\n",
      "Epoch 72/100\n",
      "42000/42000 [==============================] - 3s 78us/step - loss: 3.1077 - acc: 0.8072\n",
      "Epoch 73/100\n",
      "42000/42000 [==============================] - 3s 75us/step - loss: 3.1077 - acc: 0.8072\n",
      "Epoch 74/100\n",
      "42000/42000 [==============================] - 4s 84us/step - loss: 3.1077 - acc: 0.8072\n",
      "Epoch 75/100\n",
      "42000/42000 [==============================] - 4s 87us/step - loss: 3.1077 - acc: 0.8072\n",
      "Epoch 76/100\n",
      "42000/42000 [==============================] - 4s 88us/step - loss: 3.1077 - acc: 0.8072\n",
      "Epoch 77/100\n",
      "42000/42000 [==============================] - 3s 82us/step - loss: 3.1077 - acc: 0.8072\n",
      "Epoch 78/100\n",
      "42000/42000 [==============================] - 3s 76us/step - loss: 3.1077 - acc: 0.8072\n",
      "Epoch 79/100\n",
      "42000/42000 [==============================] - 3s 77us/step - loss: 3.1077 - acc: 0.8072\n",
      "Epoch 80/100\n",
      "42000/42000 [==============================] - 3s 77us/step - loss: 3.1077 - acc: 0.8072\n"
     ]
    },
    {
     "name": "stdout",
     "output_type": "stream",
     "text": [
      "Epoch 81/100\n",
      "42000/42000 [==============================] - 3s 76us/step - loss: 3.1077 - acc: 0.8072\n",
      "Epoch 82/100\n",
      "42000/42000 [==============================] - 3s 75us/step - loss: 3.1077 - acc: 0.8072\n",
      "Epoch 83/100\n",
      "42000/42000 [==============================] - 3s 75us/step - loss: 3.1077 - acc: 0.8072\n",
      "Epoch 84/100\n",
      "42000/42000 [==============================] - 3s 75us/step - loss: 3.1077 - acc: 0.8072\n",
      "Epoch 85/100\n",
      "42000/42000 [==============================] - 3s 81us/step - loss: 3.1077 - acc: 0.8072\n",
      "Epoch 86/100\n",
      "42000/42000 [==============================] - 3s 76us/step - loss: 3.1077 - acc: 0.8072\n",
      "Epoch 87/100\n",
      "42000/42000 [==============================] - 3s 75us/step - loss: 3.1077 - acc: 0.8072\n",
      "Epoch 88/100\n",
      "42000/42000 [==============================] - 3s 75us/step - loss: 3.1077 - acc: 0.8072\n",
      "Epoch 89/100\n",
      "42000/42000 [==============================] - 3s 76us/step - loss: 3.1077 - acc: 0.8072\n",
      "Epoch 90/100\n",
      "42000/42000 [==============================] - 3s 79us/step - loss: 3.1077 - acc: 0.8072\n",
      "Epoch 91/100\n",
      "42000/42000 [==============================] - 3s 76us/step - loss: 3.1077 - acc: 0.8072\n",
      "Epoch 92/100\n",
      "42000/42000 [==============================] - 4s 92us/step - loss: 3.1077 - acc: 0.8072\n",
      "Epoch 93/100\n",
      "42000/42000 [==============================] - 4s 97us/step - loss: 3.1077 - acc: 0.8072\n",
      "Epoch 94/100\n",
      "42000/42000 [==============================] - 4s 101us/step - loss: 3.1077 - acc: 0.8072\n",
      "Epoch 95/100\n",
      "42000/42000 [==============================] - 4s 86us/step - loss: 3.1077 - acc: 0.8072\n",
      "Epoch 96/100\n",
      "42000/42000 [==============================] - 4s 89us/step - loss: 3.1077 - acc: 0.8072\n",
      "Epoch 97/100\n",
      "42000/42000 [==============================] - 4s 86us/step - loss: 3.1077 - acc: 0.8072\n",
      "Epoch 98/100\n",
      "42000/42000 [==============================] - 4s 90us/step - loss: 3.1077 - acc: 0.8072\n",
      "Epoch 99/100\n",
      "42000/42000 [==============================] - 3s 79us/step - loss: 3.1077 - acc: 0.8072\n",
      "Epoch 100/100\n",
      "42000/42000 [==============================] - 3s 82us/step - loss: 3.1077 - acc: 0.8072\n"
     ]
    },
    {
     "data": {
      "text/plain": [
       "<keras.callbacks.History at 0x2609b1307f0>"
      ]
     },
     "execution_count": 6,
     "metadata": {},
     "output_type": "execute_result"
    }
   ],
   "source": [
    "model.compile(optimizer='adam',loss='categorical_crossentropy',metrics=['accuracy'])\n",
    "model.fit(xtrain,ytrain,batch_size=10000,nb_epoch=100)"
   ]
  },
  {
   "cell_type": "code",
   "execution_count": 27,
   "metadata": {},
   "outputs": [
    {
     "data": {
      "text/plain": [
       "2"
      ]
     },
     "execution_count": 27,
     "metadata": {},
     "output_type": "execute_result"
    }
   ],
   "source": [
    "y_pred=model.predict(y1)\n",
    "y_pred=o.inverse_transform(y_pred)\n",
    "y2=list(y1)\n",
    "y3=list(y_pred)"
   ]
  },
  {
   "cell_type": "code",
   "execution_count": 37,
   "metadata": {},
   "outputs": [],
   "source": [
    "import csv\n",
    "for i in range(28000):\n",
    "    a=[]\n",
    "    a.append(i+1)\n",
    "    a2=list(y_pred[i])\n",
    "    a.append(int(a2[0]))\n",
    "    with open('sample_submission.csv','a') as csv1:\n",
    "        writer = csv.writer(csv1)\n",
    "        writer.writerow(a)\n",
    "    csv1.close()\n",
    "    "
   ]
  },
  {
   "cell_type": "code",
   "execution_count": null,
   "metadata": {},
   "outputs": [],
   "source": []
  }
 ],
 "metadata": {
  "kernelspec": {
   "display_name": "Python 3",
   "language": "python",
   "name": "python3"
  },
  "language_info": {
   "codemirror_mode": {
    "name": "ipython",
    "version": 3
   },
   "file_extension": ".py",
   "mimetype": "text/x-python",
   "name": "python",
   "nbconvert_exporter": "python",
   "pygments_lexer": "ipython3",
   "version": "3.7.1"
  }
 },
 "nbformat": 4,
 "nbformat_minor": 2
}
